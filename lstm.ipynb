{
  "nbformat": 4,
  "nbformat_minor": 0,
  "metadata": {
    "colab": {
      "provenance": [],
      "authorship_tag": "ABX9TyOFWwzma3YBvKoS0i9S5pE/",
      "include_colab_link": true
    },
    "kernelspec": {
      "name": "python3",
      "display_name": "Python 3"
    },
    "language_info": {
      "name": "python"
    }
  },
  "cells": [
    {
      "cell_type": "markdown",
      "metadata": {
        "id": "view-in-github",
        "colab_type": "text"
      },
      "source": [
        "<a href=\"https://colab.research.google.com/github/Sainaveengunda/StockMarketPrediction/blob/main/lstm.ipynb\" target=\"_parent\"><img src=\"https://colab.research.google.com/assets/colab-badge.svg\" alt=\"Open In Colab\"/></a>"
      ]
    },
    {
      "cell_type": "code",
      "execution_count": null,
      "metadata": {
        "id": "ZYS245mc7vxP"
      },
      "outputs": [],
      "source": [
        "#Description : This project is about predecting the closing stock price of Amazon using an artificial recuurent neural network model called\n",
        "               #Long Short Term Memory(LSTM) And ARIMA (Auto regressive integrated moving average) using past data."
      ]
    },
    {
      "cell_type": "code",
      "source": [
        "# Importing the useful libraries\n",
        "import math\n",
        "import pandas_datareader as web\n",
        "import numpy as np\n",
        "import pandas as pd\n",
        "from sklearn.preprocessing import MinMaxScaler\n",
        "from keras.models import Sequential\n",
        "from keras.layers import Dense, LSTM\n",
        "import matplotlib.pyplot as plt\n",
        "plt.style.use('fivethirtyeight')\n",
        "from pandas_datareader import data as pdr\n",
        "import yfinance as yf\n",
        "yf.pdr_override()\n"
      ],
      "metadata": {
        "id": "XcMmNwFX88Ul"
      },
      "execution_count": null,
      "outputs": []
    },
    {
      "cell_type": "code",
      "source": [
        "#stock Data\n",
        "\n",
        "df = pdr.get_data_yahoo(\"AMZN\", start=\"2009-01-01\", end=\"2023-04-03\")\n",
        "#show data\n",
        "df"
      ],
      "metadata": {
        "colab": {
          "base_uri": "https://localhost:8080/",
          "height": 472
        },
        "id": "68d8zBST-Mpc",
        "outputId": "78010c98-4190-40a4-8c68-d7cab7bea266"
      },
      "execution_count": null,
      "outputs": [
        {
          "output_type": "stream",
          "name": "stdout",
          "text": [
            "\r[*********************100%***********************]  1 of 1 completed\n"
          ]
        },
        {
          "output_type": "execute_result",
          "data": {
            "text/plain": [
              "                  Open        High         Low       Close   Adj Close  \\\n",
              "Date                                                                     \n",
              "2009-01-02    2.567500    2.726500    2.553500    2.718000    2.718000   \n",
              "2009-01-05    2.786500    2.787000    2.651500    2.703000    2.703000   \n",
              "2009-01-06    2.727500    2.911000    2.687500    2.868000    2.868000   \n",
              "2009-01-07    2.814500    2.847500    2.767500    2.810000    2.810000   \n",
              "2009-01-08    2.749500    2.866000    2.729000    2.858000    2.858000   \n",
              "...                ...         ...         ...         ...         ...   \n",
              "2023-03-27   99.070000   99.339996   97.080002   98.040001   98.040001   \n",
              "2023-03-28   98.110001   98.440002   96.290001   97.239998   97.239998   \n",
              "2023-03-29   98.690002  100.419998   98.559998  100.250000  100.250000   \n",
              "2023-03-30  101.550003  103.040001  101.010002  102.000000  102.000000   \n",
              "2023-03-31  102.160004  103.489998  101.949997  103.290001  103.290001   \n",
              "\n",
              "               Volume  \n",
              "Date                   \n",
              "2009-01-02  145928000  \n",
              "2009-01-05  190196000  \n",
              "2009-01-06  221602000  \n",
              "2009-01-07  158854000  \n",
              "2009-01-08  131558000  \n",
              "...               ...  \n",
              "2023-03-27   46721300  \n",
              "2023-03-28   38720100  \n",
              "2023-03-29   49783300  \n",
              "2023-03-30   53633400  \n",
              "2023-03-31   56704300  \n",
              "\n",
              "[3586 rows x 6 columns]"
            ],
            "text/html": [
              "\n",
              "  <div id=\"df-28c2c57d-8649-4fa0-98bf-80528ac61a45\">\n",
              "    <div class=\"colab-df-container\">\n",
              "      <div>\n",
              "<style scoped>\n",
              "    .dataframe tbody tr th:only-of-type {\n",
              "        vertical-align: middle;\n",
              "    }\n",
              "\n",
              "    .dataframe tbody tr th {\n",
              "        vertical-align: top;\n",
              "    }\n",
              "\n",
              "    .dataframe thead th {\n",
              "        text-align: right;\n",
              "    }\n",
              "</style>\n",
              "<table border=\"1\" class=\"dataframe\">\n",
              "  <thead>\n",
              "    <tr style=\"text-align: right;\">\n",
              "      <th></th>\n",
              "      <th>Open</th>\n",
              "      <th>High</th>\n",
              "      <th>Low</th>\n",
              "      <th>Close</th>\n",
              "      <th>Adj Close</th>\n",
              "      <th>Volume</th>\n",
              "    </tr>\n",
              "    <tr>\n",
              "      <th>Date</th>\n",
              "      <th></th>\n",
              "      <th></th>\n",
              "      <th></th>\n",
              "      <th></th>\n",
              "      <th></th>\n",
              "      <th></th>\n",
              "    </tr>\n",
              "  </thead>\n",
              "  <tbody>\n",
              "    <tr>\n",
              "      <th>2009-01-02</th>\n",
              "      <td>2.567500</td>\n",
              "      <td>2.726500</td>\n",
              "      <td>2.553500</td>\n",
              "      <td>2.718000</td>\n",
              "      <td>2.718000</td>\n",
              "      <td>145928000</td>\n",
              "    </tr>\n",
              "    <tr>\n",
              "      <th>2009-01-05</th>\n",
              "      <td>2.786500</td>\n",
              "      <td>2.787000</td>\n",
              "      <td>2.651500</td>\n",
              "      <td>2.703000</td>\n",
              "      <td>2.703000</td>\n",
              "      <td>190196000</td>\n",
              "    </tr>\n",
              "    <tr>\n",
              "      <th>2009-01-06</th>\n",
              "      <td>2.727500</td>\n",
              "      <td>2.911000</td>\n",
              "      <td>2.687500</td>\n",
              "      <td>2.868000</td>\n",
              "      <td>2.868000</td>\n",
              "      <td>221602000</td>\n",
              "    </tr>\n",
              "    <tr>\n",
              "      <th>2009-01-07</th>\n",
              "      <td>2.814500</td>\n",
              "      <td>2.847500</td>\n",
              "      <td>2.767500</td>\n",
              "      <td>2.810000</td>\n",
              "      <td>2.810000</td>\n",
              "      <td>158854000</td>\n",
              "    </tr>\n",
              "    <tr>\n",
              "      <th>2009-01-08</th>\n",
              "      <td>2.749500</td>\n",
              "      <td>2.866000</td>\n",
              "      <td>2.729000</td>\n",
              "      <td>2.858000</td>\n",
              "      <td>2.858000</td>\n",
              "      <td>131558000</td>\n",
              "    </tr>\n",
              "    <tr>\n",
              "      <th>...</th>\n",
              "      <td>...</td>\n",
              "      <td>...</td>\n",
              "      <td>...</td>\n",
              "      <td>...</td>\n",
              "      <td>...</td>\n",
              "      <td>...</td>\n",
              "    </tr>\n",
              "    <tr>\n",
              "      <th>2023-03-27</th>\n",
              "      <td>99.070000</td>\n",
              "      <td>99.339996</td>\n",
              "      <td>97.080002</td>\n",
              "      <td>98.040001</td>\n",
              "      <td>98.040001</td>\n",
              "      <td>46721300</td>\n",
              "    </tr>\n",
              "    <tr>\n",
              "      <th>2023-03-28</th>\n",
              "      <td>98.110001</td>\n",
              "      <td>98.440002</td>\n",
              "      <td>96.290001</td>\n",
              "      <td>97.239998</td>\n",
              "      <td>97.239998</td>\n",
              "      <td>38720100</td>\n",
              "    </tr>\n",
              "    <tr>\n",
              "      <th>2023-03-29</th>\n",
              "      <td>98.690002</td>\n",
              "      <td>100.419998</td>\n",
              "      <td>98.559998</td>\n",
              "      <td>100.250000</td>\n",
              "      <td>100.250000</td>\n",
              "      <td>49783300</td>\n",
              "    </tr>\n",
              "    <tr>\n",
              "      <th>2023-03-30</th>\n",
              "      <td>101.550003</td>\n",
              "      <td>103.040001</td>\n",
              "      <td>101.010002</td>\n",
              "      <td>102.000000</td>\n",
              "      <td>102.000000</td>\n",
              "      <td>53633400</td>\n",
              "    </tr>\n",
              "    <tr>\n",
              "      <th>2023-03-31</th>\n",
              "      <td>102.160004</td>\n",
              "      <td>103.489998</td>\n",
              "      <td>101.949997</td>\n",
              "      <td>103.290001</td>\n",
              "      <td>103.290001</td>\n",
              "      <td>56704300</td>\n",
              "    </tr>\n",
              "  </tbody>\n",
              "</table>\n",
              "<p>3586 rows × 6 columns</p>\n",
              "</div>\n",
              "      <button class=\"colab-df-convert\" onclick=\"convertToInteractive('df-28c2c57d-8649-4fa0-98bf-80528ac61a45')\"\n",
              "              title=\"Convert this dataframe to an interactive table.\"\n",
              "              style=\"display:none;\">\n",
              "        \n",
              "  <svg xmlns=\"http://www.w3.org/2000/svg\" height=\"24px\"viewBox=\"0 0 24 24\"\n",
              "       width=\"24px\">\n",
              "    <path d=\"M0 0h24v24H0V0z\" fill=\"none\"/>\n",
              "    <path d=\"M18.56 5.44l.94 2.06.94-2.06 2.06-.94-2.06-.94-.94-2.06-.94 2.06-2.06.94zm-11 1L8.5 8.5l.94-2.06 2.06-.94-2.06-.94L8.5 2.5l-.94 2.06-2.06.94zm10 10l.94 2.06.94-2.06 2.06-.94-2.06-.94-.94-2.06-.94 2.06-2.06.94z\"/><path d=\"M17.41 7.96l-1.37-1.37c-.4-.4-.92-.59-1.43-.59-.52 0-1.04.2-1.43.59L10.3 9.45l-7.72 7.72c-.78.78-.78 2.05 0 2.83L4 21.41c.39.39.9.59 1.41.59.51 0 1.02-.2 1.41-.59l7.78-7.78 2.81-2.81c.8-.78.8-2.07 0-2.86zM5.41 20L4 18.59l7.72-7.72 1.47 1.35L5.41 20z\"/>\n",
              "  </svg>\n",
              "      </button>\n",
              "      \n",
              "  <style>\n",
              "    .colab-df-container {\n",
              "      display:flex;\n",
              "      flex-wrap:wrap;\n",
              "      gap: 12px;\n",
              "    }\n",
              "\n",
              "    .colab-df-convert {\n",
              "      background-color: #E8F0FE;\n",
              "      border: none;\n",
              "      border-radius: 50%;\n",
              "      cursor: pointer;\n",
              "      display: none;\n",
              "      fill: #1967D2;\n",
              "      height: 32px;\n",
              "      padding: 0 0 0 0;\n",
              "      width: 32px;\n",
              "    }\n",
              "\n",
              "    .colab-df-convert:hover {\n",
              "      background-color: #E2EBFA;\n",
              "      box-shadow: 0px 1px 2px rgba(60, 64, 67, 0.3), 0px 1px 3px 1px rgba(60, 64, 67, 0.15);\n",
              "      fill: #174EA6;\n",
              "    }\n",
              "\n",
              "    [theme=dark] .colab-df-convert {\n",
              "      background-color: #3B4455;\n",
              "      fill: #D2E3FC;\n",
              "    }\n",
              "\n",
              "    [theme=dark] .colab-df-convert:hover {\n",
              "      background-color: #434B5C;\n",
              "      box-shadow: 0px 1px 3px 1px rgba(0, 0, 0, 0.15);\n",
              "      filter: drop-shadow(0px 1px 2px rgba(0, 0, 0, 0.3));\n",
              "      fill: #FFFFFF;\n",
              "    }\n",
              "  </style>\n",
              "\n",
              "      <script>\n",
              "        const buttonEl =\n",
              "          document.querySelector('#df-28c2c57d-8649-4fa0-98bf-80528ac61a45 button.colab-df-convert');\n",
              "        buttonEl.style.display =\n",
              "          google.colab.kernel.accessAllowed ? 'block' : 'none';\n",
              "\n",
              "        async function convertToInteractive(key) {\n",
              "          const element = document.querySelector('#df-28c2c57d-8649-4fa0-98bf-80528ac61a45');\n",
              "          const dataTable =\n",
              "            await google.colab.kernel.invokeFunction('convertToInteractive',\n",
              "                                                     [key], {});\n",
              "          if (!dataTable) return;\n",
              "\n",
              "          const docLinkHtml = 'Like what you see? Visit the ' +\n",
              "            '<a target=\"_blank\" href=https://colab.research.google.com/notebooks/data_table.ipynb>data table notebook</a>'\n",
              "            + ' to learn more about interactive tables.';\n",
              "          element.innerHTML = '';\n",
              "          dataTable['output_type'] = 'display_data';\n",
              "          await google.colab.output.renderOutput(dataTable, element);\n",
              "          const docLink = document.createElement('div');\n",
              "          docLink.innerHTML = docLinkHtml;\n",
              "          element.appendChild(docLink);\n",
              "        }\n",
              "      </script>\n",
              "    </div>\n",
              "  </div>\n",
              "  "
            ]
          },
          "metadata": {},
          "execution_count": 19
        }
      ]
    },
    {
      "cell_type": "code",
      "source": [
        "#number of rows and columns in the data\n",
        "df.shape"
      ],
      "metadata": {
        "colab": {
          "base_uri": "https://localhost:8080/"
        },
        "id": "HxNIQOweGMVq",
        "outputId": "ea249a0e-74d1-43bf-fe0b-6584a3bdfca7"
      },
      "execution_count": null,
      "outputs": [
        {
          "output_type": "execute_result",
          "data": {
            "text/plain": [
              "(3586, 6)"
            ]
          },
          "metadata": {},
          "execution_count": 20
        }
      ]
    },
    {
      "cell_type": "code",
      "source": [
        "#visulaize the closing data\n",
        "plt.figure(figsize = (16,8))\n",
        "plt.title('Close Price history')\n",
        "plt.plot(df['Close'])\n",
        "plt.xlabel('Date', fontsize=18)\n",
        "plt.ylabel('Close Price $$$', fontsize=18)\n",
        "plt.show()\n"
      ],
      "metadata": {
        "colab": {
          "base_uri": "https://localhost:8080/",
          "height": 647
        },
        "id": "qarBTiqRGXOu",
        "outputId": "9ba494bc-9a83-447e-9a32-6204ba724597"
      },
      "execution_count": null,
      "outputs": [
        {
          "output_type": "display_data",
          "data": {
            "text/plain": [
              "<Figure size 1600x800 with 1 Axes>"
            ],
            "image/png": "[encoded data removed]"
          },
          "metadata": {}
        }
      ]
    },
    {
      "cell_type": "code",
      "source": [
        "#create New dataframe which contains only close variable\n",
        "data = df.filter(['Close'])\n",
        "#Data frame to numpy array\n",
        "dataset = data.values\n",
        "#Train data set rows\n",
        "training_data_len = math.ceil(len(dataset) * 0.8)\n",
        "\n",
        "training_data_len"
      ],
      "metadata": {
        "colab": {
          "base_uri": "https://localhost:8080/"
        },
        "id": "ZegRCFBmHbtY",
        "outputId": "a56cf896-e52d-4a7e-d5cb-29819f264279"
      },
      "execution_count": null,
      "outputs": [
        {
          "output_type": "execute_result",
          "data": {
            "text/plain": [
              "2869"
            ]
          },
          "metadata": {},
          "execution_count": 22
        }
      ]
    },
    {
      "cell_type": "code",
      "source": [
        "#scaling the data\n",
        "\n",
        "scaler = MinMaxScaler(feature_range=(0,1))\n",
        "\n",
        "scaled_data = scaler.fit_transform(dataset)\n",
        "\n",
        "scaled_data"
      ],
      "metadata": {
        "colab": {
          "base_uri": "https://localhost:8080/"
        },
        "id": "M5VHOMU2IzZY",
        "outputId": "e51f4965-a95f-43c8-8a17-36375e31a8b1"
      },
      "execution_count": null,
      "outputs": [
        {
          "output_type": "execute_result",
          "data": {
            "text/plain": [
              "array([[0.0016074 ],\n",
              "       [0.00152594],\n",
              "       [0.00242196],\n",
              "       ...,\n",
              "       [0.53124518],\n",
              "       [0.54074838],\n",
              "       [0.5477536 ]])"
            ]
          },
          "metadata": {},
          "execution_count": 23
        }
      ]
    },
    {
      "cell_type": "code",
      "source": [
        "#creating a Training DataSet and scaled training dataset\n",
        "\n",
        "train_data = scaled_data[0:training_data_len, :]\n",
        "#Split the data into x_train and y_train data sets\n",
        "x_train = []\n",
        "y_train = []\n",
        "for i in range(60, len(train_data)):\n",
        "  x_train.append(train_data[i-60:i, 0])\n",
        "  y_train.append(train_data[i, 0])\n",
        "  if i<= 61:\n",
        "    print(x_train)\n",
        "    print(y_train)\n",
        "    print()\n"
      ],
      "metadata": {
        "colab": {
          "base_uri": "https://localhost:8080/"
        },
        "id": "TRKltpQofWRF",
        "outputId": "95c5434d-1ebb-4b08-f335-73373e79b1d9"
      },
      "execution_count": null,
      "outputs": [
        {
          "output_type": "stream",
          "name": "stdout",
          "text": [
            "[array([1.60739844e-03, 1.52594316e-03, 2.42195896e-03, 2.10699528e-03,\n",
            "       2.36765501e-03, 1.91964711e-03, 9.44889743e-04, 8.17275529e-04,\n",
            "       1.35763109e-05, 8.14560525e-04, 8.55288163e-04, 0.00000000e+00,\n",
            "       5.70192109e-04, 4.07280263e-04, 5.94629727e-04, 3.23108689e-04,\n",
            "       0.00000000e+00, 5.21318167e-04, 4.23571577e-04, 2.81837792e-03,\n",
            "       3.45101898e-03, 4.11352897e-03, 3.42658266e-03, 4.00220477e-03,\n",
            "       4.91722819e-03, 4.96067083e-03, 4.03750241e-03, 4.31988346e-03,\n",
            "       4.21399056e-03, 4.02392739e-03, 3.59220951e-03, 3.77684397e-03,\n",
            "       3.66823607e-03, 4.18683924e-03, 3.60307082e-03, 4.65928346e-03,\n",
            "       4.14611030e-03, 3.77412897e-03, 4.43935266e-03, 3.67909609e-03,\n",
            "       3.60035581e-03, 4.44478267e-03, 4.43392266e-03, 3.59764081e-03,\n",
            "       3.27181582e-03, 4.68915108e-03, 5.45755267e-03, 5.73993372e-03,\n",
            "       5.48198899e-03, 5.03398109e-03, 6.22052425e-03, 6.19337163e-03,\n",
            "       5.88112425e-03, 5.84311032e-03, 7.36905348e-03, 6.61694321e-03,\n",
            "       6.50561901e-03, 6.85588032e-03, 5.99516215e-03, 6.24496057e-03])]\n",
            "[0.006788000061710974]\n",
            "\n",
            "[array([1.60739844e-03, 1.52594316e-03, 2.42195896e-03, 2.10699528e-03,\n",
            "       2.36765501e-03, 1.91964711e-03, 9.44889743e-04, 8.17275529e-04,\n",
            "       1.35763109e-05, 8.14560525e-04, 8.55288163e-04, 0.00000000e+00,\n",
            "       5.70192109e-04, 4.07280263e-04, 5.94629727e-04, 3.23108689e-04,\n",
            "       0.00000000e+00, 5.21318167e-04, 4.23571577e-04, 2.81837792e-03,\n",
            "       3.45101898e-03, 4.11352897e-03, 3.42658266e-03, 4.00220477e-03,\n",
            "       4.91722819e-03, 4.96067083e-03, 4.03750241e-03, 4.31988346e-03,\n",
            "       4.21399056e-03, 4.02392739e-03, 3.59220951e-03, 3.77684397e-03,\n",
            "       3.66823607e-03, 4.18683924e-03, 3.60307082e-03, 4.65928346e-03,\n",
            "       4.14611030e-03, 3.77412897e-03, 4.43935266e-03, 3.67909609e-03,\n",
            "       3.60035581e-03, 4.44478267e-03, 4.43392266e-03, 3.59764081e-03,\n",
            "       3.27181582e-03, 4.68915108e-03, 5.45755267e-03, 5.73993372e-03,\n",
            "       5.48198899e-03, 5.03398109e-03, 6.22052425e-03, 6.19337163e-03,\n",
            "       5.88112425e-03, 5.84311032e-03, 7.36905348e-03, 6.61694321e-03,\n",
            "       6.50561901e-03, 6.85588032e-03, 5.99516215e-03, 6.24496057e-03]), array([1.52594316e-03, 2.42195896e-03, 2.10699528e-03, 2.36765501e-03,\n",
            "       1.91964711e-03, 9.44889743e-04, 8.17275529e-04, 1.35763109e-05,\n",
            "       8.14560525e-04, 8.55288163e-04, 0.00000000e+00, 5.70192109e-04,\n",
            "       4.07280263e-04, 5.94629727e-04, 3.23108689e-04, 0.00000000e+00,\n",
            "       5.21318167e-04, 4.23571577e-04, 2.81837792e-03, 3.45101898e-03,\n",
            "       4.11352897e-03, 3.42658266e-03, 4.00220477e-03, 4.91722819e-03,\n",
            "       4.96067083e-03, 4.03750241e-03, 4.31988346e-03, 4.21399056e-03,\n",
            "       4.02392739e-03, 3.59220951e-03, 3.77684397e-03, 3.66823607e-03,\n",
            "       4.18683924e-03, 3.60307082e-03, 4.65928346e-03, 4.14611030e-03,\n",
            "       3.77412897e-03, 4.43935266e-03, 3.67909609e-03, 3.60035581e-03,\n",
            "       4.44478267e-03, 4.43392266e-03, 3.59764081e-03, 3.27181582e-03,\n",
            "       4.68915108e-03, 5.45755267e-03, 5.73993372e-03, 5.48198899e-03,\n",
            "       5.03398109e-03, 6.22052425e-03, 6.19337163e-03, 5.88112425e-03,\n",
            "       5.84311032e-03, 7.36905348e-03, 6.61694321e-03, 6.50561901e-03,\n",
            "       6.85588032e-03, 5.99516215e-03, 6.24496057e-03, 6.78800006e-03])]\n",
            "[0.006788000061710974, 0.006804291375793409]\n",
            "\n"
          ]
        }
      ]
    },
    {
      "cell_type": "code",
      "source": [
        "#converting X_train, y_train into numpy arrays\n",
        "x_train, y_train = np.array(x_train), np.array(y_train)"
      ],
      "metadata": {
        "id": "y-hC55iVjitj"
      },
      "execution_count": null,
      "outputs": []
    },
    {
      "cell_type": "code",
      "source": [
        "#Reshape the data\n",
        "x_train = np.reshape(x_train , (x_train.shape[0], x_train.shape[1],1))\n",
        "x_train.shape"
      ],
      "metadata": {
        "colab": {
          "base_uri": "https://localhost:8080/"
        },
        "id": "c7x-9TEhj3qk",
        "outputId": "1308d146-def1-415c-89b8-69e79732ab86"
      },
      "execution_count": null,
      "outputs": [
        {
          "output_type": "execute_result",
          "data": {
            "text/plain": [
              "(2809, 60, 1)"
            ]
          },
          "metadata": {},
          "execution_count": 26
        }
      ]
    },
    {
      "cell_type": "code",
      "source": [
        "# Define the model as a sequential model\n",
        "from keras.layers import Input, LSTM, Dense\n",
        "from keras.models import Model\n",
        "model = Sequential()\n",
        "\n",
        "# Add the first LSTM layer with 50 units, returning sequences, and input shape (number of time steps, number of features)\n",
        "# Set return_state=True to return the final hidden state and cell state\n",
        "lstm1 = LSTM(50, return_sequences=True, return_state=True, input_shape=(x_train.shape[1], 1))\n",
        "\n",
        "# Add the second LSTM layer with 50 units, not returning sequences\n",
        "# Set return_state=True to return the final hidden state and cell state\n",
        "lstm2 = LSTM(50, return_sequences=False, return_state=True)\n",
        "\n",
        "# Connect the input to the first LSTM layer\n",
        "inputs = Input(shape=(x_train.shape[1], 1))\n",
        "x = lstm1(inputs)\n",
        "\n",
        "# Connect the output of the first LSTM layer to the second LSTM layer\n",
        "x, state_h, state_c = lstm2(x)\n",
        "\n",
        "# Add a dense layer with 25 units\n",
        "x = Dense(25)(x)\n",
        "\n",
        "# Add the output layer with 1 unit\n",
        "outputs = Dense(1)(x)\n",
        "\n",
        "# Define the model with the input and output layers\n",
        "model = Model(inputs=inputs, outputs=outputs)\n",
        "\n",
        "# Print the model summary\n",
        "model.summary()\n"
      ],
      "metadata": {
        "colab": {
          "base_uri": "https://localhost:8080/"
        },
        "id": "owO66MzpmiZV",
        "outputId": "e57f2a1f-893c-43eb-a7e1-978bd4065b3e"
      },
      "execution_count": null,
      "outputs": [
        {
          "output_type": "stream",
          "name": "stdout",
          "text": [
            "Model: \"model_1\"\n",
            "__________________________________________________________________________________________________\n",
            " Layer (type)                   Output Shape         Param #     Connected to                     \n",
            "==================================================================================================\n",
            " input_2 (InputLayer)           [(None, 60, 1)]      0           []                               \n",
            "                                                                                                  \n",
            " lstm_2 (LSTM)                  [(None, 60, 50),     10400       ['input_2[0][0]']                \n",
            "                                 (None, 50),                                                      \n",
            "                                 (None, 50)]                                                      \n",
            "                                                                                                  \n",
            " lstm_3 (LSTM)                  [(None, 50),         20200       ['lstm_2[0][0]',                 \n",
            "                                 (None, 50),                      'lstm_2[0][1]',                 \n",
            "                                 (None, 50)]                      'lstm_2[0][2]']                 \n",
            "                                                                                                  \n",
            " dense_2 (Dense)                (None, 25)           1275        ['lstm_3[0][0]']                 \n",
            "                                                                                                  \n",
            " dense_3 (Dense)                (None, 1)            26          ['dense_2[0][0]']                \n",
            "                                                                                                  \n",
            "==================================================================================================\n",
            "Total params: 31,901\n",
            "Trainable params: 31,901\n",
            "Non-trainable params: 0\n",
            "__________________________________________________________________________________________________\n"
          ]
        }
      ]
    },
    {
      "cell_type": "code",
      "source": [
        "#Building the LSTM model\n",
        "model = Sequential()\n",
        "model.add(LSTM(50, return_sequences=True, input_shape=(x_train.shape[1],1)))\n",
        "model.add(LSTM(50, return_sequences=False))\n",
        "model.add(Dense(25))\n",
        "model.add(Dense(1))\n",
        "model.summary()\n"
      ],
      "metadata": {
        "id": "vkh9CzOpklBp",
        "colab": {
          "base_uri": "https://localhost:8080/"
        },
        "outputId": "09cdf9a0-0263-4255-fe16-bd521957b1d0"
      },
      "execution_count": null,
      "outputs": [
        {
          "output_type": "stream",
          "name": "stdout",
          "text": [
            "Model: \"sequential_2\"\n",
            "_________________________________________________________________\n",
            " Layer (type)                Output Shape              Param #   \n",
            "=================================================================\n",
            " lstm_4 (LSTM)               (None, 60, 50)            10400     \n",
            "                                                                 \n",
            " lstm_5 (LSTM)               (None, 50)                20200     \n",
            "                                                                 \n",
            " dense_4 (Dense)             (None, 25)                1275      \n",
            "                                                                 \n",
            " dense_5 (Dense)             (None, 1)                 26        \n",
            "                                                                 \n",
            "=================================================================\n",
            "Total params: 31,901\n",
            "Trainable params: 31,901\n",
            "Non-trainable params: 0\n",
            "_________________________________________________________________\n"
          ]
        }
      ]
    },
    {
      "cell_type": "code",
      "source": [
        "#compling the model\n",
        "\n",
        "model.compile(optimizer='adam', loss='mean_squared_logarithmic_error')"
      ],
      "metadata": {
        "id": "SVmukHtfl1gn"
      },
      "execution_count": null,
      "outputs": []
    },
    {
      "cell_type": "code",
      "source": [
        "#training the model\n",
        "model.fit(x_train, y_train, batch_size = 1, epochs = 1)"
      ],
      "metadata": {
        "colab": {
          "base_uri": "https://localhost:8080/"
        },
        "id": "RFXX7GzEmPw_",
        "outputId": "ea4f8ae9-80f9-46ae-b226-8cfa3ad2723b"
      },
      "execution_count": null,
      "outputs": [
        {
          "output_type": "stream",
          "name": "stdout",
          "text": [
            "2809/2809 [==============================] - 102s 35ms/step - loss: 0.0414\n"
          ]
        },
        {
          "output_type": "execute_result",
          "data": {
            "text/plain": [
              "<keras.callbacks.History at 0x7f5c8541b850>"
            ]
          },
          "metadata": {},
          "execution_count": 84
        }
      ]
    },
    {
      "cell_type": "code",
      "source": [
        "model.compile(optimizer='adam', loss='mean_absolute_percentage_error')"
      ],
      "metadata": {
        "id": "roelhsNsKm80"
      },
      "execution_count": null,
      "outputs": []
    },
    {
      "cell_type": "code",
      "source": [
        "model.fit(x_train, y_train, batch_size = 1, epochs = 1)"
      ],
      "metadata": {
        "colab": {
          "base_uri": "https://localhost:8080/"
        },
        "id": "f8QlPuIJMpur",
        "outputId": "e759ed19-4454-4947-d4f2-8bdb1ecfa8a8"
      },
      "execution_count": null,
      "outputs": [
        {
          "output_type": "stream",
          "name": "stdout",
          "text": [
            "2809/2809 [==============================] - 102s 35ms/step - loss: 17.1458\n"
          ]
        },
        {
          "output_type": "execute_result",
          "data": {
            "text/plain": [
              "<keras.callbacks.History at 0x7fdae903c100>"
            ]
          },
          "metadata": {},
          "execution_count": 37
        }
      ]
    },
    {
      "cell_type": "code",
      "source": [
        "model.compile(optimizer='adam', loss='mean_absolute_percentage_error')"
      ],
      "metadata": {
        "id": "jjwDH5BHxSQ1"
      },
      "execution_count": null,
      "outputs": []
    },
    {
      "cell_type": "code",
      "source": [
        "model.compile(optimizer='adam', loss='mean_squared_error')"
      ],
      "metadata": {
        "id": "i2dFTAmtNvMQ"
      },
      "execution_count": null,
      "outputs": []
    },
    {
      "cell_type": "code",
      "source": [
        "model.fit(x_train, y_train, batch_size = 1, epochs = 1)"
      ],
      "metadata": {
        "colab": {
          "base_uri": "https://localhost:8080/"
        },
        "id": "qJy5YirkN17D",
        "outputId": "dba0991a-e72c-48a7-b311-91e01107ecd4"
      },
      "execution_count": null,
      "outputs": [
        {
          "output_type": "stream",
          "name": "stdout",
          "text": [
            "2809/2809 [==============================] - 114s 38ms/step - loss: 16.9090\n"
          ]
        },
        {
          "output_type": "execute_result",
          "data": {
            "text/plain": [
              "<keras.callbacks.History at 0x7fdadbafb9d0>"
            ]
          },
          "metadata": {},
          "execution_count": 29
        }
      ]
    },
    {
      "cell_type": "code",
      "source": [
        "#creating the test data\n",
        "test_data = scaled_data[training_data_len-60:, :]\n",
        "#creating datasets x_test, y_test\n",
        "x_test=[]\n",
        "y_test= dataset[training_data_len:, :]\n",
        "for i in range(60, len(test_data)):\n",
        "  x_test.append(test_data[i-60:i, 0])"
      ],
      "metadata": {
        "id": "KZANi9orQAX3"
      },
      "execution_count": null,
      "outputs": []
    },
    {
      "cell_type": "code",
      "source": [
        "#convert the data into numpy array\n",
        "x_test = np.array(x_test)\n",
        "x_test"
      ],
      "metadata": {
        "colab": {
          "base_uri": "https://localhost:8080/"
        },
        "id": "JPp2B7uiS8-t",
        "outputId": "84037034-f448-4324-d83d-89f03aaba1f6"
      },
      "execution_count": null,
      "outputs": [
        {
          "output_type": "execute_result",
          "data": {
            "text/plain": [
              "array([[0.50517655, 0.52332492, 0.5092602 , ..., 0.64850924, 0.64443102,\n",
              "        0.64131667],\n",
              "       [0.52332492, 0.5092602 , 0.50303152, ..., 0.64443102, 0.64131667,\n",
              "        0.63879425],\n",
              "       [0.5092602 , 0.50303152, 0.47574922, ..., 0.64131667, 0.63879425,\n",
              "        0.64999988],\n",
              "       ...,\n",
              "       [0.44300118, 0.4528845 , 0.44919183, ..., 0.51973271, 0.519244  ,\n",
              "        0.51489966],\n",
              "       [0.4528845 , 0.44919183, 0.43822244, ..., 0.519244  , 0.51489966,\n",
              "        0.53124518],\n",
              "       [0.44919183, 0.43822244, 0.45429642, ..., 0.51489966, 0.53124518,\n",
              "        0.54074838]])"
            ]
          },
          "metadata": {},
          "execution_count": 39
        }
      ]
    },
    {
      "cell_type": "code",
      "source": [
        "#Reshape the data\n",
        "x_test = np.reshape(x_test, (x_test.shape[0], x_test.shape[1],1))"
      ],
      "metadata": {
        "id": "r91zZqxgTKvD"
      },
      "execution_count": null,
      "outputs": []
    },
    {
      "cell_type": "code",
      "source": [
        "#Predicting the price by models\n",
        "predictions = model.predict(x_test)\n",
        "predictions = scaler.inverse_transform(predictions)"
      ],
      "metadata": {
        "colab": {
          "base_uri": "https://localhost:8080/"
        },
        "id": "1jnv3JFHTlzS",
        "outputId": "bbd87745-a5d0-436b-d549-d41a084288d6"
      },
      "execution_count": null,
      "outputs": [
        {
          "output_type": "stream",
          "name": "stdout",
          "text": [
            "23/23 [==============================] - 2s 23ms/step\n"
          ]
        }
      ]
    },
    {
      "cell_type": "code",
      "source": [
        "from sklearn.metrics import mean_squared_error\n",
        "import math\n",
        "\n",
        "# Calculate root mean squared error (RMSE)\n",
        "mse = mean_squared_error(y_test, predictions)\n",
        "rmse = math.sqrt(mse)\n",
        "\n",
        "print('Mean Squared Error:', mse)\n",
        "print('Root Mean Squared Error:', rmse)\n"
      ],
      "metadata": {
        "colab": {
          "base_uri": "https://localhost:8080/"
        },
        "id": "FGex4a7SPN_-",
        "outputId": "2e249de1-4603-4903-d80d-b3aea84475fd"
      },
      "execution_count": null,
      "outputs": [
        {
          "output_type": "stream",
          "name": "stdout",
          "text": [
            "Mean Squared Error: 102.2727978484469\n",
            "Root Mean Squared Error: 10.113001426304997\n"
          ]
        }
      ]
    },
    {
      "cell_type": "code",
      "source": [
        "def mean_absolute_percentage_error(y_true, y_pred):\n",
        "    return np.mean(np.abs((y_true - y_pred) / y_true)) * 100\n",
        "\n",
        "mape = mean_absolute_percentage_error(y_test, predictions)\n",
        "print(\"MAPE: {:.2f}%\".format(mape))"
      ],
      "metadata": {
        "colab": {
          "base_uri": "https://localhost:8080/"
        },
        "id": "IKchWYA_yQXR",
        "outputId": "00bc3577-04c8-45de-da6f-d451d6de2cd1"
      },
      "execution_count": null,
      "outputs": [
        {
          "output_type": "stream",
          "name": "stdout",
          "text": [
            "MAPE: 3.85%\n"
          ]
        }
      ]
    },
    {
      "cell_type": "code",
      "source": [
        "# Get Root Mean Square Error\n",
        "rmse=np.sqrt(np.mean(((predictions- y_test)**2)))\n",
        "rmse"
      ],
      "metadata": {
        "colab": {
          "base_uri": "https://localhost:8080/"
        },
        "id": "6oNCERBOUC-5",
        "outputId": "5b16b7fe-6368-4510-bf93-54cde55f2739"
      },
      "execution_count": null,
      "outputs": [
        {
          "output_type": "execute_result",
          "data": {
            "text/plain": [
              "11.245594726427656"
            ]
          },
          "metadata": {},
          "execution_count": 149
        }
      ]
    },
    {
      "cell_type": "code",
      "source": [
        "#plot the data\n",
        "train = data[:training_data_len]\n",
        "valid = data[training_data_len:]\n",
        "valid['predictions'] = predictions\n",
        "#visulizing the data\n",
        "plt.figure()\n",
        "plt.title('Stock Price Prediction using LSTM')\n",
        "plt.xlabel('Date', fontsize=18)\n",
        "plt.ylabel('Close Price $$$', fontsize=18)\n",
        "plt.plot(train['Close'])\n",
        "plt.plot(valid[['Close', 'predictions']])\n",
        "plt.legend(['Train', 'Val', 'predictions'], loc = 'lower right')\n",
        "plt.show()\n"
      ],
      "metadata": {
        "colab": {
          "base_uri": "https://localhost:8080/",
          "height": 613
        },
        "id": "edjbATYrVmx3",
        "outputId": "48e10cfc-ea46-40b8-fc3e-dff6bf6aee9f"
      },
      "execution_count": null,
      "outputs": [
        {
          "output_type": "stream",
          "name": "stderr",
          "text": [
            "<ipython-input-110-1cfe5b265c4b>:4: SettingWithCopyWarning: \n",
            "A value is trying to be set on a copy of a slice from a DataFrame.\n",
            "Try using .loc[row_indexer,col_indexer] = value instead\n",
            "\n",
            "See the caveats in the documentation: https://pandas.pydata.org/pandas-docs/stable/user_guide/indexing.html#returning-a-view-versus-a-copy\n",
            "  valid['predictions'] = predictions\n"
          ]
        },
        {
          "output_type": "display_data",
          "data": {
            "text/plain": [
              "<Figure size 640x480 with 1 Axes>"
            ],
            "image/png": "[encoded data removed]"
          },
          "metadata": {}
        }
      ]
    },
    {
      "cell_type": "code",
      "source": [
        "#show valid and predicted prices\n",
        "valid"
      ],
      "metadata": {
        "colab": {
          "base_uri": "https://localhost:8080/",
          "height": 455
        },
        "id": "yVbpjrG1bGE7",
        "outputId": "c994d1e6-c8a6-4b9d-fa0c-eb0a70b02fb4"
      },
      "execution_count": null,
      "outputs": [
        {
          "output_type": "execute_result",
          "data": {
            "text/plain": [
              "                 Close  predictions\n",
              "Date                               \n",
              "2020-05-28  120.055000   128.030472\n",
              "2020-05-29  122.118500   127.372513\n",
              "2020-06-01  123.552002   127.546463\n",
              "2020-06-02  123.620499   128.326553\n",
              "2020-06-03  123.919998   129.073715\n",
              "...                ...          ...\n",
              "2023-03-27   98.040001   106.669418\n",
              "2023-03-28   97.239998   106.295738\n",
              "2023-03-29  100.250000   105.779373\n",
              "2023-03-30  102.000000   106.255890\n",
              "2023-03-31  103.290001   107.389900\n",
              "\n",
              "[717 rows x 2 columns]"
            ],
            "text/html": [
              "\n",
              "  <div id=\"df-0eb04256-36ba-4fd7-9de9-19e363aad2fd\">\n",
              "    <div class=\"colab-df-container\">\n",
              "      <div>\n",
              "<style scoped>\n",
              "    .dataframe tbody tr th:only-of-type {\n",
              "        vertical-align: middle;\n",
              "    }\n",
              "\n",
              "    .dataframe tbody tr th {\n",
              "        vertical-align: top;\n",
              "    }\n",
              "\n",
              "    .dataframe thead th {\n",
              "        text-align: right;\n",
              "    }\n",
              "</style>\n",
              "<table border=\"1\" class=\"dataframe\">\n",
              "  <thead>\n",
              "    <tr style=\"text-align: right;\">\n",
              "      <th></th>\n",
              "      <th>Close</th>\n",
              "      <th>predictions</th>\n",
              "    </tr>\n",
              "    <tr>\n",
              "      <th>Date</th>\n",
              "      <th></th>\n",
              "      <th></th>\n",
              "    </tr>\n",
              "  </thead>\n",
              "  <tbody>\n",
              "    <tr>\n",
              "      <th>2020-05-28</th>\n",
              "      <td>120.055000</td>\n",
              "      <td>128.030472</td>\n",
              "    </tr>\n",
              "    <tr>\n",
              "      <th>2020-05-29</th>\n",
              "      <td>122.118500</td>\n",
              "      <td>127.372513</td>\n",
              "    </tr>\n",
              "    <tr>\n",
              "      <th>2020-06-01</th>\n",
              "      <td>123.552002</td>\n",
              "      <td>127.546463</td>\n",
              "    </tr>\n",
              "    <tr>\n",
              "      <th>2020-06-02</th>\n",
              "      <td>123.620499</td>\n",
              "      <td>128.326553</td>\n",
              "    </tr>\n",
              "    <tr>\n",
              "      <th>2020-06-03</th>\n",
              "      <td>123.919998</td>\n",
              "      <td>129.073715</td>\n",
              "    </tr>\n",
              "    <tr>\n",
              "      <th>...</th>\n",
              "      <td>...</td>\n",
              "      <td>...</td>\n",
              "    </tr>\n",
              "    <tr>\n",
              "      <th>2023-03-27</th>\n",
              "      <td>98.040001</td>\n",
              "      <td>106.669418</td>\n",
              "    </tr>\n",
              "    <tr>\n",
              "      <th>2023-03-28</th>\n",
              "      <td>97.239998</td>\n",
              "      <td>106.295738</td>\n",
              "    </tr>\n",
              "    <tr>\n",
              "      <th>2023-03-29</th>\n",
              "      <td>100.250000</td>\n",
              "      <td>105.779373</td>\n",
              "    </tr>\n",
              "    <tr>\n",
              "      <th>2023-03-30</th>\n",
              "      <td>102.000000</td>\n",
              "      <td>106.255890</td>\n",
              "    </tr>\n",
              "    <tr>\n",
              "      <th>2023-03-31</th>\n",
              "      <td>103.290001</td>\n",
              "      <td>107.389900</td>\n",
              "    </tr>\n",
              "  </tbody>\n",
              "</table>\n",
              "<p>717 rows × 2 columns</p>\n",
              "</div>\n",
              "      <button class=\"colab-df-convert\" onclick=\"convertToInteractive('df-0eb04256-36ba-4fd7-9de9-19e363aad2fd')\"\n",
              "              title=\"Convert this dataframe to an interactive table.\"\n",
              "              style=\"display:none;\">\n",
              "        \n",
              "  <svg xmlns=\"http://www.w3.org/2000/svg\" height=\"24px\"viewBox=\"0 0 24 24\"\n",
              "       width=\"24px\">\n",
              "    <path d=\"M0 0h24v24H0V0z\" fill=\"none\"/>\n",
              "    <path d=\"M18.56 5.44l.94 2.06.94-2.06 2.06-.94-2.06-.94-.94-2.06-.94 2.06-2.06.94zm-11 1L8.5 8.5l.94-2.06 2.06-.94-2.06-.94L8.5 2.5l-.94 2.06-2.06.94zm10 10l.94 2.06.94-2.06 2.06-.94-2.06-.94-.94-2.06-.94 2.06-2.06.94z\"/><path d=\"M17.41 7.96l-1.37-1.37c-.4-.4-.92-.59-1.43-.59-.52 0-1.04.2-1.43.59L10.3 9.45l-7.72 7.72c-.78.78-.78 2.05 0 2.83L4 21.41c.39.39.9.59 1.41.59.51 0 1.02-.2 1.41-.59l7.78-7.78 2.81-2.81c.8-.78.8-2.07 0-2.86zM5.41 20L4 18.59l7.72-7.72 1.47 1.35L5.41 20z\"/>\n",
              "  </svg>\n",
              "      </button>\n",
              "      \n",
              "  <style>\n",
              "    .colab-df-container {\n",
              "      display:flex;\n",
              "      flex-wrap:wrap;\n",
              "      gap: 12px;\n",
              "    }\n",
              "\n",
              "    .colab-df-convert {\n",
              "      background-color: #E8F0FE;\n",
              "      border: none;\n",
              "      border-radius: 50%;\n",
              "      cursor: pointer;\n",
              "      display: none;\n",
              "      fill: #1967D2;\n",
              "      height: 32px;\n",
              "      padding: 0 0 0 0;\n",
              "      width: 32px;\n",
              "    }\n",
              "\n",
              "    .colab-df-convert:hover {\n",
              "      background-color: #E2EBFA;\n",
              "      box-shadow: 0px 1px 2px rgba(60, 64, 67, 0.3), 0px 1px 3px 1px rgba(60, 64, 67, 0.15);\n",
              "      fill: #174EA6;\n",
              "    }\n",
              "\n",
              "    [theme=dark] .colab-df-convert {\n",
              "      background-color: #3B4455;\n",
              "      fill: #D2E3FC;\n",
              "    }\n",
              "\n",
              "    [theme=dark] .colab-df-convert:hover {\n",
              "      background-color: #434B5C;\n",
              "      box-shadow: 0px 1px 3px 1px rgba(0, 0, 0, 0.15);\n",
              "      filter: drop-shadow(0px 1px 2px rgba(0, 0, 0, 0.3));\n",
              "      fill: #FFFFFF;\n",
              "    }\n",
              "  </style>\n",
              "\n",
              "      <script>\n",
              "        const buttonEl =\n",
              "          document.querySelector('#df-0eb04256-36ba-4fd7-9de9-19e363aad2fd button.colab-df-convert');\n",
              "        buttonEl.style.display =\n",
              "          google.colab.kernel.accessAllowed ? 'block' : 'none';\n",
              "\n",
              "        async function convertToInteractive(key) {\n",
              "          const element = document.querySelector('#df-0eb04256-36ba-4fd7-9de9-19e363aad2fd');\n",
              "          const dataTable =\n",
              "            await google.colab.kernel.invokeFunction('convertToInteractive',\n",
              "                                                     [key], {});\n",
              "          if (!dataTable) return;\n",
              "\n",
              "          const docLinkHtml = 'Like what you see? Visit the ' +\n",
              "            '<a target=\"_blank\" href=https://colab.research.google.com/notebooks/data_table.ipynb>data table notebook</a>'\n",
              "            + ' to learn more about interactive tables.';\n",
              "          element.innerHTML = '';\n",
              "          dataTable['output_type'] = 'display_data';\n",
              "          await google.colab.output.renderOutput(dataTable, element);\n",
              "          const docLink = document.createElement('div');\n",
              "          docLink.innerHTML = docLinkHtml;\n",
              "          element.appendChild(docLink);\n",
              "        }\n",
              "      </script>\n",
              "    </div>\n",
              "  </div>\n",
              "  "
            ]
          },
          "metadata": {},
          "execution_count": 111
        }
      ]
    },
    {
      "cell_type": "code",
      "source": [],
      "metadata": {
        "id": "s3HME_c7bRlk"
      },
      "execution_count": null,
      "outputs": []
    }
  ]
}